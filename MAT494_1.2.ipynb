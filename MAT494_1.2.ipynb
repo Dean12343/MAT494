{
  "nbformat": 4,
  "nbformat_minor": 0,
  "metadata": {
    "colab": {
      "name": "MAT 494 Data Science",
      "provenance": []
    },
    "kernelspec": {
      "name": "python3",
      "display_name": "Python 3"
    },
    "language_info": {
      "name": "python"
    }
  },
  "cells": [
    {
      "cell_type": "markdown",
      "source": [
        "Problem 1: Display the matrix A and its transpose given that A is the following:\n",
        "\n",
        "---\n",
        " \\begin{bmatrix}\n",
        "1 & 2\\\\\n",
        "3 & 4\\\\\n",
        "5 & 6\n",
        "\\end{bmatrix}"
      ],
      "metadata": {
        "id": "utp7rZVRG-mb"
      }
    },
    {
      "cell_type": "code",
      "execution_count": 72,
      "metadata": {
        "colab": {
          "base_uri": "https://localhost:8080/"
        },
        "id": "NxBp9i8bvDLF",
        "outputId": "93d5245e-89fb-46ed-cf8d-683776a6fe5c"
      },
      "outputs": [
        {
          "output_type": "stream",
          "name": "stdout",
          "text": [
            "A =  [[1 2]\n",
            " [3 4]\n",
            " [5 6]]\n",
            "Aᵀ=  [[1 3 5]\n",
            " [2 4 6]]\n"
          ]
        }
      ],
      "source": [
        "import numpy as np\n",
        "\n",
        "A = np.array([[1, 2], [3, 4], [5, 6]])\n",
        "print(\"A = \",A)\n",
        "print(\"Aᵀ= \", A.T)"
      ]
    },
    {
      "cell_type": "markdown",
      "source": [
        "Problem 2: Form a 5x5 Identity Matrix"
      ],
      "metadata": {
        "id": "GXlRRJpDHGpD"
      }
    },
    {
      "cell_type": "code",
      "source": [
        "A=np.eye(5)\n",
        "print(A)"
      ],
      "metadata": {
        "id": "XM7JpNyrvEsB",
        "colab": {
          "base_uri": "https://localhost:8080/"
        },
        "outputId": "1390f000-d325-4d9c-86ea-29c6881a3858"
      },
      "execution_count": 5,
      "outputs": [
        {
          "output_type": "stream",
          "name": "stdout",
          "text": [
            "[[1. 0. 0. 0. 0.]\n",
            " [0. 1. 0. 0. 0.]\n",
            " [0. 0. 1. 0. 0.]\n",
            " [0. 0. 0. 1. 0.]\n",
            " [0. 0. 0. 0. 1.]]\n"
          ]
        }
      ]
    },
    {
      "cell_type": "markdown",
      "source": [
        "Problem 3: Find the RREF of the following matrix\n",
        "\n",
        "---\n",
        " \\begin{bmatrix}\n",
        "1 & 2 & 3\\\\\n",
        "2 & 4 & 6\\\\\n",
        "6 & 7 & 8\n",
        "\\end{bmatrix}"
      ],
      "metadata": {
        "id": "DC1Vzx3ZHKxq"
      }
    },
    {
      "cell_type": "code",
      "source": [
        "from sympy import * \n",
        "a=Matrix([[1,2,3], [2,4,6],[6,7,8]])\n",
        "b=a.rref()\n",
        "print(np.array(b[0]))"
      ],
      "metadata": {
        "colab": {
          "base_uri": "https://localhost:8080/"
        },
        "id": "bTJ6Vkw9F8m9",
        "outputId": "fb8f56be-48c8-4b66-ef0c-e30801a31253"
      },
      "execution_count": 73,
      "outputs": [
        {
          "output_type": "stream",
          "name": "stdout",
          "text": [
            "[[1 0 -1]\n",
            " [0 1 2]\n",
            " [0 0 0]]\n"
          ]
        }
      ]
    },
    {
      "cell_type": "markdown",
      "source": [
        "Problem 4: Find the coefficients for a linear combination of vectors such that $a\\overrightarrow{v_1}$+$b\\overrightarrow{v_2}$+$c\\overrightarrow{v_3}$=$\\overrightarrow{w}$ with basis vectors $\\overrightarrow{v_1}=<1,4,3>$, $\\overrightarrow{v_2}=<4,5,6>$, and $\\overrightarrow{v_3}=<7,8,9>$ that form the vector $\\overrightarrow{w}=<2,4,6>$ "
      ],
      "metadata": {
        "id": "uZuZXz-WG9Xb"
      }
    },
    {
      "cell_type": "code",
      "source": [
        "a=np.array([[1,4,7,2], [4,5,8,4],[3,6,9,6]])\n",
        "b=sympy.Matrix(a).rref()\n",
        "c=np.array(b[0])\n",
        "print(\"a = \",c[0,-1])\n",
        "print(\"b = \",c[1,-1])\n",
        "print(\"c = \",c[2,-1])"
      ],
      "metadata": {
        "colab": {
          "base_uri": "https://localhost:8080/"
        },
        "id": "pGveTSwPHgQK",
        "outputId": "3539da69-65a2-41a8-b661-65c154b8e812"
      },
      "execution_count": 71,
      "outputs": [
        {
          "output_type": "stream",
          "name": "stdout",
          "text": [
            "a =  0\n",
            "b =  4\n",
            "c =  -2\n"
          ]
        }
      ]
    },
    {
      "cell_type": "markdown",
      "source": [
        "Problem 5: Show that det(A)=det(Aᵀ) where A is the following:\n",
        "\n",
        "---\n",
        " \\begin{bmatrix}\n",
        "\n",
        "> Indented block\n",
        "\n",
        "\n",
        "6 & 1 & 8\\\\\n",
        "7 & 4 & 10\\\\\n",
        "8 & 8 & 4\n",
        "\\end{bmatrix}\n",
        "\n"
      ],
      "metadata": {
        "id": "xO1JsSunKpza"
      }
    },
    {
      "cell_type": "code",
      "source": [
        "a=np.array([[6,1,8],[7,4,10],[8,8,4]])\n",
        "a1=np.linalg.det(a)\n",
        "x1=round(a1,0)\n",
        "a2=np.linalg.det(a.T)\n",
        "x2=round(a2,0)\n",
        "print(\"Determinant of A=\",x1)\n",
        "print(\"Determinant of Aᵀ=\",x2)"
      ],
      "metadata": {
        "colab": {
          "base_uri": "https://localhost:8080/"
        },
        "id": "bkjFknhVOYvx",
        "outputId": "1e635d7b-13e0-4fe9-c508-255207c7b203"
      },
      "execution_count": 48,
      "outputs": [
        {
          "output_type": "stream",
          "name": "stdout",
          "text": [
            "Determinant of A= -140.0\n",
            "Determinant of Aᵀ= -140.0\n"
          ]
        }
      ]
    },
    {
      "cell_type": "markdown",
      "source": [
        "Problem 6: Use the Gram-Schmidt Process to find Orthonormal Basis vectors for the space spanned by the following: {<2,0,8>, <8,7,7>, <9,4,0>}."
      ],
      "metadata": {
        "id": "F836GurcOZEH"
      }
    },
    {
      "cell_type": "code",
      "source": [
        "a = [Matrix([2,0,8]), Matrix([8,7,7]), Matrix([9,4,0])]\n",
        "b = GramSchmidt(a, True)\n",
        "x1=np.array(b[0])\n",
        "x2=np.array(b[1])\n",
        "x3=np.array(b[2])\n",
        "print(\"v1 = \", x1)\n",
        "print(\"v2 = \", x2)\n",
        "print(\"v3 = \", x3)"
      ],
      "metadata": {
        "colab": {
          "base_uri": "https://localhost:8080/"
        },
        "id": "wPSZEMzsPWXP",
        "outputId": "58e714c3-4e91-4a16-e08b-d19c6af52e9c"
      },
      "execution_count": 105,
      "outputs": [
        {
          "output_type": "stream",
          "name": "stdout",
          "text": [
            "v1 =  [[sqrt(17)/17]\n",
            " [0]\n",
            " [4*sqrt(17)/17]]\n",
            "v2 =  [[50*sqrt(34)/459]\n",
            " [7*sqrt(34)/54]\n",
            " [-25*sqrt(34)/918]]\n",
            "v3 =  [[14*sqrt(2)/27]\n",
            " [-25*sqrt(2)/54]\n",
            " [-7*sqrt(2)/54]]\n"
          ]
        }
      ]
    },
    {
      "cell_type": "markdown",
      "source": [
        "Problem 7: Show that the basis vectors from problem 6 are orthogonal and have a norm of 1"
      ],
      "metadata": {
        "id": "zvs4lSTpPWcn"
      }
    },
    {
      "cell_type": "code",
      "source": [
        "a = [Matrix([2,0,8]), Matrix([8,7,7]), Matrix([9,4,0])]\n",
        "b = GramSchmidt(a, True)\n",
        "x1=np.array(b[0])\n",
        "x2=np.array(b[1])\n",
        "x3=np.array(b[2])\n",
        "y1=x1.T.dot(x2)\n",
        "y2=x1.T.dot(x3)\n",
        "y3=x2.T.dot(x3)\n",
        "z1=x1.T.dot(x1)\n",
        "z2=x2.T.dot(x2)\n",
        "z3=x3.T.dot(x3)\n",
        "print(\"x1 and x2 are orthogonal\",y1==0)\n",
        "print(\"x1 and x3 are orthogonal\",y2==0)\n",
        "print(\"x2 and x3 are orthogonal\",y3==0)\n",
        "print(\"x1 is normalized\", z1==1)\n",
        "print(\"x2 is normalized\", z2==1)\n",
        "print(\"x3 is normalized\", z3==1)"
      ],
      "metadata": {
        "colab": {
          "base_uri": "https://localhost:8080/"
        },
        "id": "5_tFpfUpaLi6",
        "outputId": "b6c074b7-9847-42e4-da95-0aaba2337c2e"
      },
      "execution_count": 86,
      "outputs": [
        {
          "output_type": "stream",
          "name": "stdout",
          "text": [
            "x1 and x2 are orthogonal [[ True]]\n",
            "x1 and x3 are orthogonal [[ True]]\n",
            "x2 and x3 are orthogonal [[ True]]\n",
            "x1 is normalized [[ True]]\n",
            "x2 is normalized [[ True]]\n",
            "x3 is normalized [[ True]]\n"
          ]
        }
      ]
    },
    {
      "cell_type": "markdown",
      "source": [
        "Problem 8: Find the Eigenvalues and Eigenvectors of the Following Matrix:\n",
        "\n",
        "---\n",
        "\n",
        "\\begin{bmatrix}\n",
        "1 & 3\\\\\n",
        "5 & 4\\\\\n",
        "\\end{bmatrix}"
      ],
      "metadata": {
        "id": "F7VzhnD9aL8K"
      }
    },
    {
      "cell_type": "code",
      "source": [
        "a=Matrix([[1,3],[5,4]])\n",
        "b=a.eigenvals()\n",
        "c=a.eigenvects()\n",
        "print(\"The eigenvalues are:\",b)\n",
        "print(\"The eigenvectors are:\",c)"
      ],
      "metadata": {
        "colab": {
          "base_uri": "https://localhost:8080/"
        },
        "id": "mQMk4A0_aMVx",
        "outputId": "207f7f10-83a7-4b4b-9985-b15239b274b4"
      },
      "execution_count": 101,
      "outputs": [
        {
          "output_type": "stream",
          "name": "stdout",
          "text": [
            "The eigenvalues are: {5/2 - sqrt(69)/2: 1, 5/2 + sqrt(69)/2: 1}\n",
            "The eigenvectors are: [(5/2 - sqrt(69)/2, 1, [Matrix([\n",
            "[-3/(-3/2 + sqrt(69)/2)],\n",
            "[                     1]])]), (5/2 + sqrt(69)/2, 1, [Matrix([\n",
            "[-3/(-sqrt(69)/2 - 3/2)],\n",
            "[                     1]])])]\n"
          ]
        }
      ]
    },
    {
      "cell_type": "markdown",
      "source": [
        "Problem 9: Diagonalize A by finding P and D such that $PDP^{-1}=A$ where A is the following:\n",
        "\n",
        "\n",
        "---\n",
        "\n",
        " \\begin{bmatrix}\n",
        "1 & 3\\\\\n",
        "5 & 4\\\\\n",
        "\\end{bmatrix}"
      ],
      "metadata": {
        "id": "6IQw8IhjaMt5"
      }
    },
    {
      "cell_type": "code",
      "source": [
        "a=Matrix([[1,3],[5,4]])\n",
        "(p,d)=a.diagonalize()\n",
        "print(\"P = \",p)\n",
        "print(\"D = \",d)"
      ],
      "metadata": {
        "colab": {
          "base_uri": "https://localhost:8080/"
        },
        "id": "jqaOI1dC8S_D",
        "outputId": "4ed27e54-5619-4dd7-f9ea-1bb5f96a1fb3"
      },
      "execution_count": 102,
      "outputs": [
        {
          "output_type": "stream",
          "name": "stdout",
          "text": [
            "P =  Matrix([[-sqrt(69)/10 - 3/10, -3/10 + sqrt(69)/10], [1, 1]])\n",
            "D =  Matrix([[5/2 - sqrt(69)/2, 0], [0, 5/2 + sqrt(69)/2]])\n"
          ]
        }
      ]
    }
  ]
}