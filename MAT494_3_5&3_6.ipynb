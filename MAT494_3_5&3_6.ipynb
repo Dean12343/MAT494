{
  "nbformat": 4,
  "nbformat_minor": 0,
  "metadata": {
    "colab": {
      "provenance": [],
      "authorship_tag": "ABX9TyOcQd91g+hiL2QetV4IrP57",
      "include_colab_link": true
    },
    "kernelspec": {
      "name": "python3",
      "display_name": "Python 3"
    },
    "language_info": {
      "name": "python"
    }
  },
  "cells": [
    {
      "cell_type": "markdown",
      "metadata": {
        "id": "view-in-github",
        "colab_type": "text"
      },
      "source": [
        "<a href=\"https://colab.research.google.com/github/Dean12343/MAT494/blob/main/MAT494_3_5%263_6.ipynb\" target=\"_parent\"><img src=\"https://colab.research.google.com/assets/colab-badge.svg\" alt=\"Open In Colab\"/></a>"
      ]
    },
    {
      "cell_type": "markdown",
      "source": [
        "K-means Clustering Algorithm:\n",
        "1. Clusters the data into k groups where k is predefined.\n",
        "2. Select k points at random as cluster centers.\n",
        "3. Assign objects to their closest cluster center according to the Euclidean\n",
        "distance function.\n",
        "4. Calculate the centroid or mean of all objects in each cluster.\n",
        "5. Repeat steps 2, 3 and 4 until the same points are assigned to each cluster\n",
        "in consecutive rounds.\n",
        "\n",
        "Problem 1: Given points (1,2), (1,4), (1,0), (10,2), (10,4), (10,0), find the cluster centers with 3 centroids."
      ],
      "metadata": {
        "id": "gBqFy8P9bA-h"
      }
    },
    {
      "cell_type": "code",
      "source": [
        "from sklearn.cluster import KMeans\n",
        "import numpy as np\n",
        "X = np.array([[1, 2], [1, 4], [1, 0],[10, 2], [10, 4], [10, 0]])\n",
        "kmeans = KMeans(n_clusters=3, random_state=0).fit(X)\n",
        "kmeans.cluster_centers_\n"
      ],
      "metadata": {
        "id": "426GPUMybBEa",
        "colab": {
          "base_uri": "https://localhost:8080/"
        },
        "outputId": "36f33923-2c2c-4f3b-e905-0ee8da73c894"
      },
      "execution_count": 8,
      "outputs": [
        {
          "output_type": "execute_result",
          "data": {
            "text/plain": [
              "array([[10.,  3.],\n",
              "       [ 1.,  2.],\n",
              "       [10.,  0.]])"
            ]
          },
          "metadata": {},
          "execution_count": 8
        }
      ]
    },
    {
      "cell_type": "markdown",
      "source": [
        "Problem 2: Given <0,0> in the integer set 5 and <1,1> in the integer set 2 as support vectors, determine what integer set <0.5,0.4> would be placed in.\n",
        "\n",
        "\n",
        "\n"
      ],
      "metadata": {
        "id": "dR1GCSXx3iYY"
      }
    },
    {
      "cell_type": "code",
      "source": [
        "from sklearn import svm\n",
        "X = [[0, 0], [1, 1]]\n",
        "y = [5, 2]\n",
        "clf = svm.SVC()\n",
        "clf.fit(X, y)\n",
        "clf.predict([[0.5, 0.4]])"
      ],
      "metadata": {
        "colab": {
          "base_uri": "https://localhost:8080/"
        },
        "id": "QM4romOP3ihX",
        "outputId": "fc16d2c0-2605-4a7c-e8ec-4d1e84aba6ee"
      },
      "execution_count": 29,
      "outputs": [
        {
          "output_type": "execute_result",
          "data": {
            "text/plain": [
              "array([5])"
            ]
          },
          "metadata": {},
          "execution_count": 29
        }
      ]
    }
  ]
}