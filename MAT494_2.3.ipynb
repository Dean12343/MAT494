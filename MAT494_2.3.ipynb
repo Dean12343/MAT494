{
  "nbformat": 4,
  "nbformat_minor": 0,
  "metadata": {
    "colab": {
      "provenance": [],
      "authorship_tag": "ABX9TyOrVjB0e9EAME6icShHQ4AW",
      "include_colab_link": true
    },
    "kernelspec": {
      "name": "python3",
      "display_name": "Python 3"
    },
    "language_info": {
      "name": "python"
    }
  },
  "cells": [
    {
      "cell_type": "markdown",
      "metadata": {
        "id": "view-in-github",
        "colab_type": "text"
      },
      "source": [
        "<a href=\"https://colab.research.google.com/github/Dean12343/MAT494/blob/main/MAT494_2.3.ipynb\" target=\"_parent\"><img src=\"https://colab.research.google.com/assets/colab-badge.svg\" alt=\"Open In Colab\"/></a>"
      ]
    },
    {
      "cell_type": "markdown",
      "source": [
        "Problem 1: Suppose that two standard dice are rolled defined by a probability distribution function p(x,y). Find p(3,5), pₓ(x), and pᵧ(y) (X and Y are independent variables)\n",
        "\n"
      ],
      "metadata": {
        "id": "lInDy00jxLAE"
      }
    },
    {
      "cell_type": "code",
      "source": [
        "print(\"Probability that die 1 is 3 and die 2 is 5 is: \", (1/6)*1/6)\n",
        "import sympy as sym\n",
        "n = sym.Symbol('n')\n",
        "p=Sum((1/6)*(1/6), (n, 1, 6)).doit()\n",
        "print(\"pX(x) is: \", p)\n",
        "print(\"pY(y) is: \", p)\n"
      ],
      "metadata": {
        "id": "D4GlO0K7xLGb",
        "colab": {
          "base_uri": "https://localhost:8080/"
        },
        "outputId": "fb2b35c2-e9ae-48db-eaf3-10a1479aefb1"
      },
      "execution_count": null,
      "outputs": [
        {
          "output_type": "stream",
          "name": "stdout",
          "text": [
            "Probability that die 1 is 3 and die 2 is 5 is:  0.027777777777777776\n",
            "pX(x) is:  0.166666666666667\n",
            "pY(y) is:  0.166666666666667\n"
          ]
        }
      ]
    },
    {
      "cell_type": "markdown",
      "source": [
        "Problem 2: Given f(x,y)=(9/10)xy^ 2+(1/5) where x is an element of [0,2] and y is an element of [0,1], find P(x<1, y>0.5), E(X), and E(Y)\n"
      ],
      "metadata": {
        "id": "69rtueD-xLMj"
      }
    },
    {
      "cell_type": "code",
      "source": [
        "import sympy as sym\n",
        "x=sym.Symbol('x')\n",
        "y=sym.Symbol('y')\n",
        "print(\"P(x<1, y>0.5)\", integrate(0.9*x*(y**2)+0.2, (x, 0, 1), (y, 0.5, 1)))\n",
        "print(\"E(X)=\",integrate(x*integrate(0.9*x*(y**2)+0.2, (y, 0, 1)),(x,0,2)))\n",
        "print(\"E(Y)=\",integrate(y*integrate(0.9*x*(y**2)+0.2, (x, 0, 2)),(y,0,1)))"
      ],
      "metadata": {
        "id": "Lyw6nQa_xLSb",
        "colab": {
          "base_uri": "https://localhost:8080/"
        },
        "outputId": "51cec6ec-5642-40f2-94fb-78540f2a0175"
      },
      "execution_count": 14,
      "outputs": [
        {
          "output_type": "stream",
          "name": "stdout",
          "text": [
            "P(x<1, y>0.5) 0.231250000000000\n",
            "E(X)= 1.20000000000000\n",
            "E(Y)= 0.650000000000000\n"
          ]
        }
      ]
    },
    {
      "cell_type": "markdown",
      "source": [
        "Problem 3: Find the covariance and correlation coefficient of the function from problem 2\n"
      ],
      "metadata": {
        "id": "6rw1UlKUxUaU"
      }
    },
    {
      "cell_type": "code",
      "source": [
        "cov=integrate(x*y*(0.9*x*(y**2)+0.2), (x, 0, 2), (y, 0, 1))-(integrate(x*integrate(0.9*x*(y**2)+0.2, (y, 0, 1)),(x,0,2)))*integrate(y*integrate(0.9*x*(y**2)+0.2, (x, 0, 2)),(y,0,1))\n",
        "print(\"Covariance is: \",integrate(x*y*(0.9*x*(y**2)+0.2), (x, 0, 2), (y, 0, 1))-(integrate(x*integrate(0.9*x*(y**2)+0.2, (y, 0, 1)),(x,0,2)))*integrate(y*integrate(0.9*x*(y**2)+0.2, (x, 0, 2)),(y,0,1)))\n",
        "sx=sqrt(integrate(x**2*integrate(0.9*x*(y**2)+0.2, (y, 0, 1)),(x,0,2))-(integrate(x*integrate(0.9*x*(y**2)+0.2, (y, 0, 1)),(x,0,2))**2))\n",
        "sy=sqrt(integrate(y**2*integrate(0.9*x*(y**2)+0.2, (x, 0, 2)),(y,0,1))-(integrate(y*integrate(0.9*x*(y**2)+0.2, (x, 0, 2)),(y,0,1))**2))\n",
        "print(\"Correlation Coefficient: \", cov/(sx*sy))"
      ],
      "metadata": {
        "id": "DJgujZJ_xUh7",
        "colab": {
          "base_uri": "https://localhost:8080/"
        },
        "outputId": "f6709f30-3938-4c40-d323-b32cac44ecd0"
      },
      "execution_count": 25,
      "outputs": [
        {
          "output_type": "stream",
          "name": "stdout",
          "text": [
            "Covariance is:  0.0200000000000000\n",
            "Correlation Coefficient:  0.138749187018864\n"
          ]
        }
      ]
    }
  ]
}