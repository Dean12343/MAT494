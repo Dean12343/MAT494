{
  "nbformat": 4,
  "nbformat_minor": 0,
  "metadata": {
    "colab": {
      "provenance": [],
      "authorship_tag": "ABX9TyOWhxXynUMytaI+w6KOHTLL",
      "include_colab_link": true
    },
    "kernelspec": {
      "name": "python3",
      "display_name": "Python 3"
    },
    "language_info": {
      "name": "python"
    }
  },
  "cells": [
    {
      "cell_type": "markdown",
      "metadata": {
        "id": "view-in-github",
        "colab_type": "text"
      },
      "source": [
        "<a href=\"https://colab.research.google.com/github/Dean12343/MAT494/blob/main/MAT494_2_2.ipynb\" target=\"_parent\"><img src=\"https://colab.research.google.com/assets/colab-badge.svg\" alt=\"Open In Colab\"/></a>"
      ]
    },
    {
      "cell_type": "markdown",
      "source": [
        "Problem 1: Find a set of random variables with a poisson distribution such that μ=3 and find the probability of a value 5 or greater appearing for a given random value. \n"
      ],
      "metadata": {
        "id": "bbsKevYcbPxc"
      }
    },
    {
      "cell_type": "code",
      "source": [
        "from scipy.stats import poisson\n",
        "\n",
        "print('10 random values: ', poisson.rvs(mu=3, size=10))\n",
        "print('Proability: ', 1-poisson.cdf(k=4, mu=3))\n",
        "\n"
      ],
      "metadata": {
        "colab": {
          "base_uri": "https://localhost:8080/"
        },
        "id": "j4c7ugQgbQFl",
        "outputId": "b7253994-ae74-4a9a-d2f6-cfe30348b4ef"
      },
      "execution_count": 137,
      "outputs": [
        {
          "output_type": "stream",
          "name": "stdout",
          "text": [
            "10 random values:  [2 3 7 4 4 2 1 2 5 3]\n",
            "Proability:  0.1847367554762278\n"
          ]
        }
      ]
    },
    {
      "cell_type": "markdown",
      "source": [
        "Problem 2: Plot a binomial distribution with n=5 and p=0.3\n",
        "\n"
      ],
      "metadata": {
        "id": "8fYRZBpObQOU"
      }
    },
    {
      "cell_type": "code",
      "source": [
        "from numpy import random\n",
        "import matplotlib.pyplot as plt\n",
        "\n",
        "x = random.binomial(n=5, p=0.3, size=10000)\n",
        "\n",
        "plt.hist(x, density=True, edgecolor='black')\n"
      ],
      "metadata": {
        "colab": {
          "base_uri": "https://localhost:8080/",
          "height": 334
        },
        "id": "1QoONo79bQW0",
        "outputId": "e4311c60-b8b5-401a-8d82-554d779095a1"
      },
      "execution_count": 140,
      "outputs": [
        {
          "output_type": "execute_result",
          "data": {
            "text/plain": [
              "(array([0.3392, 0.    , 0.7238, 0.    , 0.6106, 0.    , 0.2664, 0.    ,\n",
              "        0.055 , 0.005 ]),\n",
              " array([0. , 0.5, 1. , 1.5, 2. , 2.5, 3. , 3.5, 4. , 4.5, 5. ]),\n",
              " <a list of 10 Patch objects>)"
            ]
          },
          "metadata": {},
          "execution_count": 140
        },
        {
          "output_type": "display_data",
          "data": {
            "text/plain": [
              "<Figure size 432x288 with 1 Axes>"
            ],
            "image/png": "[encoded data removed]"
          },
          "metadata": {
            "needs_background": "light"
          }
        }
      ]
    },
    {
      "cell_type": "markdown",
      "source": [
        "Problem 3: Plot a normal distribution of 10000 numbers with a mean of 3 and a standard deviation of 2."
      ],
      "metadata": {
        "id": "Ch7vlqgYbQdc"
      }
    },
    {
      "cell_type": "code",
      "source": [
        "import matplotlib.pyplot as plt\n",
        "from numpy.random import normal\n",
        "\n",
        "data = normal(loc=3, scale=2, size=10000)\n",
        "count, bins, ignored = plt.hist(data, 30)\n",
        "plt.show()"
      ],
      "metadata": {
        "colab": {
          "base_uri": "https://localhost:8080/",
          "height": 267
        },
        "id": "zIq5_FAabQld",
        "outputId": "3cc321de-2a86-4a83-ba22-9861e38546b5"
      },
      "execution_count": 121,
      "outputs": [
        {
          "output_type": "display_data",
          "data": {
            "text/plain": [
              "<Figure size 432x288 with 1 Axes>"
            ],
            "image/png": "[encoded data removed]"
          },
          "metadata": {
            "needs_background": "light"
          }
        }
      ]
    },
    {
      "cell_type": "markdown",
      "source": [
        "Problem 4: Find the expected value and variance for the sum of the two values from throwing 2 dice."
      ],
      "metadata": {
        "id": "dEl37jjzdAUk"
      }
    },
    {
      "cell_type": "code",
      "source": [
        "from sympy import *\n",
        "n = sym.Symbol('n')\n",
        "p=Sum(n*(n-1)/36, (n, 2, 7)).doit()\n",
        "p+=Sum(n*(13-n)/36, (n,8,12)).doit()\n",
        "print('Expected value is: ',p)\n",
        "s=Sum((n-p)**2*(n-1)/36, (n, 2, 7)).doit()\n",
        "s+=Sum((n-p)**2*(13-n)/36, (n,8,12)).doit()\n",
        "print('The variance is: ', s.evalf())"
      ],
      "metadata": {
        "colab": {
          "base_uri": "https://localhost:8080/"
        },
        "id": "X4MqSf2JdAb0",
        "outputId": "ffb2f0ba-8940-402e-bba3-7072a6f18293"
      },
      "execution_count": 118,
      "outputs": [
        {
          "output_type": "stream",
          "name": "stdout",
          "text": [
            "Expected value is:  7\n",
            "The variance is:  5.83333333333333\n"
          ]
        }
      ]
    },
    {
      "cell_type": "markdown",
      "source": [
        "Problem 5: Find the expected value and variance of a distribution defined by the function f(x)=sinx/2 from 0 to π and 0 for all other real values.\n"
      ],
      "metadata": {
        "id": "b_4ESlEedAiM"
      }
    },
    {
      "cell_type": "code",
      "source": [
        "import sympy as sym\n",
        "x= sym.symbols('x')\n",
        "integral = sym.integrate(x*sym.sin(x)/2, (x, 0, sym.pi))\n",
        "print('Expected value of f: ',\n",
        "      integral.evalf())\n",
        "st = sym.integrate(x**2*sym.sin(x)/2, (x, 0, sym.pi))\n",
        "print('Variance of f: ', st.evalf()-(integral.evalf())**2)"
      ],
      "metadata": {
        "colab": {
          "base_uri": "https://localhost:8080/"
        },
        "id": "-vtWSombdAo8",
        "outputId": "b1a38c44-37b9-4b14-e460-fdca29bf03dc"
      },
      "execution_count": 119,
      "outputs": [
        {
          "output_type": "stream",
          "name": "stdout",
          "text": [
            "Expected value of f:  1.57079632679490\n",
            "Variance of f:  0.467401100272340\n"
          ]
        }
      ]
    }
  ]
}