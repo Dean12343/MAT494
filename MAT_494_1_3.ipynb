{
  "nbformat": 4,
  "nbformat_minor": 0,
  "metadata": {
    "colab": {
      "provenance": []
    },
    "kernelspec": {
      "name": "python3",
      "display_name": "Python 3"
    },
    "language_info": {
      "name": "python"
    }
  },
  "cells": [
    {
      "cell_type": "markdown",
      "source": [
        "Problem 1: Find the QR Decomposition of the following matrix A and show that A=QR:\n",
        "\n",
        "\n",
        "---\n",
        " \\begin{bmatrix}\n",
        "7 & 5 \\\\\n",
        "2 & 1 \\\\\n",
        "8 & 4 \n",
        "\\end{bmatrix}\n"
      ],
      "metadata": {
        "id": "w-URgRJOkwAF"
      }
    },
    {
      "cell_type": "code",
      "execution_count": 77,
      "metadata": {
        "id": "9SvMr_gFksFM",
        "colab": {
          "base_uri": "https://localhost:8080/"
        },
        "outputId": "a4850fb3-e82b-4a50-f78f-7d36e66b5062"
      },
      "outputs": [
        {
          "output_type": "stream",
          "name": "stdout",
          "text": [
            "Q=\n",
            " [[-0.64715023  0.7623625 ]\n",
            " [-0.18490007 -0.15695699]\n",
            " [-0.73960026 -0.62782794]] \n",
            "R=\n",
            " [[-10.81665383  -6.37905226]\n",
            " [  0.           1.14354375]]\n",
            "A=\n",
            " [[7. 5.]\n",
            " [2. 1.]\n",
            " [8. 4.]]\n"
          ]
        }
      ],
      "source": [
        "import numpy as np\n",
        "a=np.array([[7,5], [2,1],[8,4]])\n",
        "q, r =  np.linalg.qr(a)\n",
        "print( \"Q=\\n\", q, \"\\nR=\\n\", r)\n",
        "print(\"A=\\n\",np.dot(q,r))"
      ]
    },
    {
      "cell_type": "markdown",
      "source": [
        "Problem 2: Find the least-squares solution $\\overrightarrow{x}$of the following matrix A and vector $\\overrightarrow{b}$:\n",
        "\n",
        "---\n",
        "\n",
        " \\begin{bmatrix}\n",
        "7 & 5 \\\\\n",
        "2 & 1 \\\\\n",
        "8 & 4 \n",
        "\\end{bmatrix}\n",
        "\n",
        " \\begin{bmatrix}\n",
        "2\\\\\n",
        "2\\\\\n",
        "1\n",
        "\\end{bmatrix}\n"
      ],
      "metadata": {
        "id": "P4CyU2bXlwvz"
      }
    },
    {
      "cell_type": "code",
      "source": [
        "a=np.array([[7.,5.], [2.,1.],[8.,4.],])\n",
        "b=np.array([[2],[2],[1]])\n",
        "c=np.dot(a.T,b)\n",
        "d=np.dot(a.T,a)\n",
        "x=np.dot(np.linalg.inv(d),c)\n",
        "print(\"x=\\n\",x)"
      ],
      "metadata": {
        "id": "kJwsU1SimUV7",
        "colab": {
          "base_uri": "https://localhost:8080/"
        },
        "outputId": "bf3ea94e-d93f-4a11-ed6f-86f00cf215f2"
      },
      "execution_count": 73,
      "outputs": [
        {
          "output_type": "stream",
          "name": "stdout",
          "text": [
            "x=\n",
            " [[-0.07843137]\n",
            " [ 0.50980392]]\n"
          ]
        }
      ]
    },
    {
      "cell_type": "markdown",
      "source": [
        "Problem 3: Find the error in the least-squares solution from problem 2"
      ],
      "metadata": {
        "id": "mTBU-kH5MwoD"
      }
    },
    {
      "cell_type": "code",
      "source": [
        "a=np.array([[7.,5.], [2.,1.],[8.,4.]])\n",
        "b1=np.array([2,2,1])\n",
        "b=np.array([[2],[2],[1]])\n",
        "c=np.dot(a.T,b)\n",
        "d=np.dot(a.T,a)\n",
        "x=np.dot(np.linalg.inv(d),c)\n",
        "e=np.dot(a,x)\n",
        "n=np.linalg.norm(b-e)\n",
        "print(\"error is\\n\", n)"
      ],
      "metadata": {
        "id": "9jJ5OSrgMw3T",
        "colab": {
          "base_uri": "https://localhost:8080/"
        },
        "outputId": "d8def5b4-1b43-496d-84f0-0bdaa73d94ec"
      },
      "execution_count": 89,
      "outputs": [
        {
          "output_type": "stream",
          "name": "stdout",
          "text": [
            "error is\n",
            " 1.697749375254331\n"
          ]
        }
      ]
    },
    {
      "cell_type": "markdown",
      "source": [
        "Problem 4: Show that $Rx^*=Q^T\\overrightarrow{b}$ where W is the space spanned by col(A) from problems 1 and 2\n",
        "\n",
        "```\n",
        "\n"
      ],
      "metadata": {
        "id": "KHn4XE6AmUBz"
      }
    },
    {
      "cell_type": "code",
      "source": [
        "a=np.array([[7.,5.], [2.,1.],[8.,4.]])\n",
        "q, r =  np.linalg.qr(a)\n",
        "b=np.array([[2],[2],[1]])\n",
        "c=np.dot(a.T,b)\n",
        "d=np.dot(a.T,a)\n",
        "x=np.dot(np.linalg.inv(d),c)\n",
        "f=np.dot(r,x)\n",
        "g=np.dot(q.T,b)\n",
        "print(\"Rx*=\\n\",f)\n",
        "print(\"QT*b=\\n\",g)"
      ],
      "metadata": {
        "id": "DkOWi5p-oSR9",
        "colab": {
          "base_uri": "https://localhost:8080/"
        },
        "outputId": "46312e63-9723-40e9-8829-5d0d5818eb2c"
      },
      "execution_count": 97,
      "outputs": [
        {
          "output_type": "stream",
          "name": "stdout",
          "text": [
            "Rx*=\n",
            " [[-2.40370085]\n",
            " [ 0.58298309]]\n",
            "QT*b=\n",
            " [[-2.40370085]\n",
            " [ 0.58298309]]\n"
          ]
        }
      ]
    }
  ]
}