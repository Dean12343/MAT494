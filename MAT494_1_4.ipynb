{
  "nbformat": 4,
  "nbformat_minor": 0,
  "metadata": {
    "colab": {
      "provenance": [],
      "authorship_tag": "ABX9TyPHKY5lz8KbrnwaAyD3vT1/",
      "include_colab_link": true
    },
    "kernelspec": {
      "name": "python3",
      "display_name": "Python 3"
    },
    "language_info": {
      "name": "python"
    }
  },
  "cells": [
    {
      "cell_type": "markdown",
      "metadata": {
        "id": "view-in-github",
        "colab_type": "text"
      },
      "source": [
        "<a href=\"https://colab.research.google.com/github/Dean12343/MAT494/blob/main/MAT494_1_4.ipynb\" target=\"_parent\"><img src=\"https://colab.research.google.com/assets/colab-badge.svg\" alt=\"Open In Colab\"/></a>"
      ]
    },
    {
      "cell_type": "markdown",
      "source": [
        "Problem 1: Find U, Sigma, and V^T for the Singular Value Decomposition of the following matrix and verify that A=(U)(Sigma)(V^T):\n",
        "\n",
        "\n",
        "---\n",
        "\n",
        " \\begin{bmatrix}\n",
        "7 & 5 &10&5 \\\\\n",
        "2 & 1 & 10&0\\\\\n",
        "8 & 4 &5&10\\\\\n",
        "0&6&2&1\\\\\n",
        "1&5&0&2\\\\\n",
        "\\end{bmatrix}"
      ],
      "metadata": {
        "id": "OV-gmv_OotfE"
      }
    },
    {
      "cell_type": "code",
      "execution_count": null,
      "metadata": {
        "id": "rtYtzPleomkh",
        "colab": {
          "base_uri": "https://localhost:8080/"
        },
        "outputId": "9fd09971-2330-4d55-eb0d-a71c5696dd5a"
      },
      "outputs": [
        {
          "output_type": "stream",
          "name": "stdout",
          "text": [
            "U=\n",
            " [[-0.65401528 -0.19155502  0.02966276  0.7075142 ]\n",
            " [-0.36116648 -0.75428716  0.01525141 -0.46156692]\n",
            " [-0.61919317  0.53746246 -0.39687793 -0.41248791]\n",
            " [-0.18641234  0.09082321  0.75643159 -0.31841998]\n",
            " [-0.15386043  0.31183778  0.51883203  0.12182806]] \n",
            "S=\n",
            " [[21.37525811  0.          0.          0.        ]\n",
            " [ 0.          8.9060661   0.          0.        ]\n",
            " [ 0.          0.          6.52258168  0.        ]\n",
            " [ 0.          0.          0.          1.11187021]] \n",
            "V^T=\n",
            " [[-0.48691088 -0.37406761 -0.63721374 -0.46577877]\n",
            " [ 0.19785144  0.28541398 -0.73988481  0.57616328]\n",
            " [-0.37071966  0.87523675 -0.00343189 -0.3106699 ]\n",
            " [ 0.76572811  0.11212898 -0.21567877 -0.59545799]]\n",
            "A=\n",
            " [[ 7.00000000e+00  5.00000000e+00  1.00000000e+01  5.00000000e+00]\n",
            " [ 2.00000000e+00  1.00000000e+00  1.00000000e+01 -4.41998272e-15]\n",
            " [ 8.00000000e+00  4.00000000e+00  5.00000000e+00  1.00000000e+01]\n",
            " [ 8.59238477e-16  6.00000000e+00  2.00000000e+00  1.00000000e+00]\n",
            " [ 1.00000000e+00  5.00000000e+00  7.04022714e-16  2.00000000e+00]]\n"
          ]
        }
      ],
      "source": [
        "from numpy.core.shape_base import vstack\n",
        "import numpy as np\n",
        "a=np.array([[7,5,10,5], [2,1,10,0],[8,4,5,10],[0,6,2,1],[1,5,0,2]])\n",
        "u, s, vT =  np.linalg.svd(a, full_matrices=False)\n",
        "s=np.diag(s)\n",
        "print( \"U=\\n\", u, \"\\nS=\\n\", s, \"\\nV^T=\\n\",vT)\n",
        "b=np.dot(s,vT)\n",
        "print(\"A=\\n\",np.dot(u,b))"
      ]
    },
    {
      "cell_type": "markdown",
      "source": [
        "Problem 2: Lower the Rank of the matrix from problem 1 to ranks 1 and 3, and find the new matrix for each respective rank\n",
        "\n",
        "\n",
        "\n",
        "---\n",
        "\n",
        " \\begin{bmatrix}\n",
        "7 & 5 &10&5 \\\\\n",
        "2 & 1 & 10&0\\\\\n",
        "8 & 4 &5&10\\\\\n",
        "0&6&2&1\\\\\n",
        "1&5&0&2\\\\\n",
        "\\end{bmatrix}\n",
        "\n"
      ],
      "metadata": {
        "id": "3gwISv46o1YL"
      }
    },
    {
      "cell_type": "code",
      "source": [
        "from numpy.core.shape_base import vstack\n",
        "a=np.array([[7,5,10,5], [2,1,10,0],[8,4,5,10],[0,6,2,1],[1,5,0,2]])\n",
        "u, s, vT =  np.linalg.svd(a, full_matrices=False)\n",
        "s=np.diag(s)\n",
        "for r in (1,3):\n",
        "  n=u[:, :r]@s[0:r,:r]@vT[:r,:]\n",
        "  print(\"rank\", r, \"matrix:\\n\",n)"
      ],
      "metadata": {
        "id": "JiR2jHJKpBak",
        "colab": {
          "base_uri": "https://localhost:8080/"
        },
        "outputId": "8bd94116-7a69-428a-882e-08a01b31fb65"
      },
      "execution_count": null,
      "outputs": [
        {
          "output_type": "stream",
          "name": "stdout",
          "text": [
            "rank 1 matrix:\n",
            " [[6.80689021 5.22937006 8.90808595 6.51146862]\n",
            " [3.75896506 2.88781201 4.91930717 3.59582456]\n",
            " [6.44446704 4.9509397  8.43378762 6.16477475]\n",
            " [1.94015091 1.49051428 2.53904949 1.85594763]\n",
            " [1.60135567 1.230236   2.09567269 1.53185623]]\n",
            "rank 3 matrix:\n",
            " [[ 6.39762929  4.91179218 10.16966672  5.46842534]\n",
            " [ 2.39297359  1.05754487  9.88931311 -0.30559054]\n",
            " [ 8.3511882   4.05142605  4.90108259  9.7269033 ]\n",
            " [ 0.27109967  6.03969833  1.92364072  0.78918305]\n",
            " [ 0.89627677  4.98481135  0.0292152   2.08065895]]\n"
          ]
        }
      ]
    },
    {
      "cell_type": "markdown",
      "source": [
        "Problem 3: Find the covariance matrix and total variance:\n",
        "\n",
        "\n",
        "---\n",
        "\n",
        " \\begin{bmatrix}\n",
        "7 & 5 &10&5 \\\\\n",
        "2 & 1 & 10&0\\\\\n",
        "8 & 4 &5&10\\\\\n",
        "0&6&2&1\\\\\n",
        "1&5&0&2\\\\\n",
        "\\end{bmatrix}"
      ],
      "metadata": {
        "id": "s_YO1jYQpBg7"
      }
    },
    {
      "cell_type": "code",
      "source": [
        "a=np.array([[7,5,10,5], [2,1,10,0],[8,4,5,10],[0,6,2,1],[1,5,0,2]])\n",
        "M=1/4*(a[:,[0]]+a[:,[1]]+a[:,[2]]+a[:,[3]])\n",
        "b=np.array([[],[],[],[],[]])\n",
        "for r in (0,1,2,3):\n",
        "  x=a[:,[r]]-M\n",
        "  b=np.column_stack((b,x))\n",
        "s=1/3*(np.dot(b,b.T))\n",
        "print(\"Covariance Matrix:\\n\",s)\n",
        "print(\"Total Variance:\\n\",np.trace(s))"
      ],
      "metadata": {
        "colab": {
          "base_uri": "https://localhost:8080/"
        },
        "id": "anl82l4zXY9B",
        "outputId": "24a25342-0e3e-4cfd-c468-5c9e41ad0775"
      },
      "execution_count": null,
      "outputs": [
        {
          "output_type": "stream",
          "name": "stdout",
          "text": [
            "Covariance Matrix:\n",
            " [[ 5.58333333 10.41666667 -2.08333333 -1.91666667 -4.        ]\n",
            " [10.41666667 20.91666667 -5.91666667 -1.08333333 -6.33333333]\n",
            " [-2.08333333 -5.91666667  7.58333333 -5.58333333 -2.        ]\n",
            " [-1.91666667 -1.08333333 -5.58333333  6.91666667  4.66666667]\n",
            " [-4.         -6.33333333 -2.          4.66666667  4.66666667]]\n",
            "Total Variance:\n",
            " 45.66666666666666\n"
          ]
        }
      ]
    }
  ]
}