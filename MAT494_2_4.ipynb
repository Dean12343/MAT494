{
  "nbformat": 4,
  "nbformat_minor": 0,
  "metadata": {
    "colab": {
      "provenance": [],
      "authorship_tag": "ABX9TyOYB/KWtxPrR5PXiLYO7ulY",
      "include_colab_link": true
    },
    "kernelspec": {
      "name": "python3",
      "display_name": "Python 3"
    },
    "language_info": {
      "name": "python"
    }
  },
  "cells": [
    {
      "cell_type": "markdown",
      "metadata": {
        "id": "view-in-github",
        "colab_type": "text"
      },
      "source": [
        "<a href=\"https://colab.research.google.com/github/Dean12343/MAT494/blob/main/MAT494_2_4.ipynb\" target=\"_parent\"><img src=\"https://colab.research.google.com/assets/colab-badge.svg\" alt=\"Open In Colab\"/></a>"
      ]
    },
    {
      "cell_type": "markdown",
      "source": [
        "2.4 Maximum Likelihood Estimation\n",
        "\n",
        "\n",
        "---\n",
        "\n",
        "\n",
        "2.4.1 MLE for Random Samples\n",
        "\n",
        "Maximum likelihood estimation (MLE) is an effective approach of estimating\n",
        "the parameters of a probability distribution through maximizing a likelihood\n",
        "function. The point in the parameter space that maximizes the likelihood\n",
        "function is called the maximum likelihood estimate. The logic of maximum\n",
        "likelihood is both intuitive and flexible. As a result, the method has become\n",
        "a dominant means of statistical inference\n",
        "\n",
        "Definition 2.4.1 Let $X_1,X_2,...,X_n$ have joint pmf or pdf\n",
        "\n",
        "$f (x_1,x_2,...,x_n;θ_1,...,θ_m)$(2.4.1)\n",
        "\n",
        "where the parameters $θ_1,...,θ_m$ have unknown values. When $x_1,...,x_n$ are the observed sample values and (2.4.1) is regarded as a function of $θ_1,...,θ_m$,it\n",
        "is called the likelihood function. The maximum likelihood estimates (mle’s)$\\hat{θ_1},...,\\hat{θ_m}$ are those values of the $θ_i$ ’s that maximize the likelihood function,\n",
        "so that\n",
        "$f(x_1,...,x_n; \\hat{θ_1},...,\\hat{θ_m}\n",
        ")≥ f (x_1,...,x_n;θ_1,...,θ_m)$for all $θ_1,...,θ_m$\n",
        "\n",
        "When the $X_i$ ’s are substituted in place of the $x_i$ ’s, the maximum likelihood\n",
        "estimators result."
      ],
      "metadata": {
        "id": "I5EARk352kgK"
      }
    },
    {
      "cell_type": "markdown",
      "source": [
        "Problem 1: Let 2,3,4 be a random sample of X from a Poisson Distribution.\n",
        "Find the maximum likelihood value for μ given the Poisson Distribution:\n",
        "\n",
        "$p(x,\\mu)=\\frac{e^{-μ}μ^{x}}{x!}$\n",
        "\n",
        "\n",
        "\n",
        "---\n",
        "\n",
        "Solution:\n",
        "$f(x_1,x_2,x_3,μ)=\\frac{e^{-μ}μ^{x_1}}{x_1!}\\frac{e^{-μ}μ^{x_2}}{x_2!}\\frac{e^{-μ}μ^{x_3}}{x_3!}$\n",
        "\n",
        "$ln(f)=-3μ+(x_1+x_2+x_3)ln(μ)-(ln(x_1!)+ln(x_2!)+ln(x_3!))$\n",
        "\n",
        "$\\frac{∂ln(f)}{∂μ}=-3+\\frac{x_1+x_2+x_3}{μ}=0$\n",
        "\n",
        "$μ=\\frac{x1+x2+x3}{3}=\\frac{2+3+4}{3}=3$"
      ],
      "metadata": {
        "id": "8yXPx0uHfMqT"
      }
    },
    {
      "cell_type": "markdown",
      "source": [
        "2.4.2 Linear Regression\n",
        "\n",
        "\n",
        "---\n",
        "\n",
        "\n",
        "Given input data points $\\{(\\textbf{x}_i,y_i)\\}^n_{i=1}$, we seek an aﬀine function to fit the data\n",
        "and each $\\textbf{x}_i =(x_{i1},....,x_{ip})$. The common approach involves finding coeﬀicients\n",
        "$β_j ,j =1...,p$’s that minimize the criterion\n",
        "\n",
        "$ \\sum_{i=1}^{n} (y_i-\\hat{y_i})^2 $\n",
        "\n",
        "where\n",
        "\n",
        "$\\hat{y_i} =β_0 +β_1x_{i1} +...+β_px_{ip}$\n",
        "\n",
        "Now we wish to discuss it from a probabilistic point of view by the maximum\n",
        "likelihood estimation. Consider that we have n points, each of which is drawn\n",
        "in an independent and identically distributed (i.i.d.) way from the normal\n",
        "distribution. For a given, $μ,σ^2$,the probability fo those n points being drawn\n",
        "define the likelihood function, which are just the multiplication of n normal\n",
        "probability density functions (pdf)(because they are independent).\n",
        "\n",
        "$\\mathscr{P}(μ|y)=\\prod_{i=1}^{n}P_Y(y_i|\\mu,\\sigma^2)=\\prod_{i=1}^{n}\\frac{1}{\\sigma\\sqrt{2\\pi}}e^{-\\frac{(y_i-\\mu)^2}{2\\sigma^2}}\\$ (2.4.2)\n",
        "\n",
        "As a result, for each $y_i$, we choose $μ$ in the normal distributions in (2.4.2) as\n",
        "\n",
        "$\\mu_i=\\hat{y_i}$\n",
        "\n",
        "Hence we derive the maximum likelihood estimate\n",
        "\n",
        "$\\hat{β}=argmax\\mathscr{P}(β| y)=argmin_β \\sum_{i=1}^{n} (y_i-\\hat{y_i})^2 $\n",
        "\n",
        "which is exactly the least square problem we discussed before."
      ],
      "metadata": {
        "id": "4EWAw4C2fW6H"
      }
    }
  ]
}