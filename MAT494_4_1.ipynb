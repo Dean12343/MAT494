{
  "nbformat": 4,
  "nbformat_minor": 0,
  "metadata": {
    "colab": {
      "provenance": [],
      "authorship_tag": "ABX9TyNysPafmoe0XyJ/LejVNw/Y",
      "include_colab_link": true
    },
    "kernelspec": {
      "name": "python3",
      "display_name": "Python 3"
    },
    "language_info": {
      "name": "python"
    }
  },
  "cells": [
    {
      "cell_type": "markdown",
      "metadata": {
        "id": "view-in-github",
        "colab_type": "text"
      },
      "source": [
        "<a href=\"https://colab.research.google.com/github/Dean12343/MAT494/blob/main/MAT494_4_1.ipynb\" target=\"_parent\"><img src=\"https://colab.research.google.com/assets/colab-badge.svg\" alt=\"Open In Colab\"/></a>"
      ]
    },
    {
      "cell_type": "markdown",
      "source": [
        "Problem 1: Given the following adjacency matrix:\n",
        "\n",
        "A=$\\begin{bmatrix} 0&0&1&0&0\\\\0&0&1&1&1\\\\1&1&0&1&1\\\\0&1&1&0&0\\\\0&1&1&0&0\\end{bmatrix}$\n",
        "\n",
        "Find the Laplacian Matrix of A"
      ],
      "metadata": {
        "id": "tQp2ZFnLiObT"
      }
    },
    {
      "cell_type": "code",
      "execution_count": 18,
      "metadata": {
        "id": "Sgw88SSabI6A",
        "colab": {
          "base_uri": "https://localhost:8080/"
        },
        "outputId": "f7e283bb-ebb8-4eda-dda7-a1be144f83b9"
      },
      "outputs": [
        {
          "output_type": "execute_result",
          "data": {
            "text/plain": [
              "array([[ 1,  0, -1,  0,  0],\n",
              "       [ 0,  3, -1, -1, -1],\n",
              "       [-1, -1,  4, -1, -1],\n",
              "       [ 0, -1, -1,  2,  0],\n",
              "       [ 0, -1, -1,  0,  2]])"
            ]
          },
          "metadata": {},
          "execution_count": 18
        }
      ],
      "source": [
        "from scipy.sparse import csgraph\n",
        "import numpy as np\n",
        "G =np.array([[0,0,1,0,0],[0,0,1,1,1],[1,1,0,1,1],[0,1,1,0,0],[0,1,1,0,0]])\n",
        "G\n",
        "csgraph.laplacian(G)\n"
      ]
    },
    {
      "cell_type": "markdown",
      "source": [
        "Problem 2: Find the incidence matrix of A from problem 1."
      ],
      "metadata": {
        "id": "oC_GdWnKbNqY"
      }
    },
    {
      "cell_type": "code",
      "source": [
        "def incidence(adj_matrix):\n",
        "    n = len(adj_matrix)\n",
        "    columns = 0\n",
        "    for i in range(0, n):\n",
        "        for j in range(i, n):\n",
        "            if adj_matrix[i, j] == 1:\n",
        "                columns += 1\n",
        "    incidence_matrix = np.zeros((n, columns))\n",
        "    m = 0\n",
        "    for i in range(0, n):\n",
        "        for j in range(i, n):\n",
        "            if adj_matrix[i, j] == 1:\n",
        "                incidence_matrix[i, m] = -1\n",
        "                incidence_matrix[j, m] = 1\n",
        "                m += 1\n",
        "    return incidence_matrix\n",
        "\n",
        "incidence(G)\n"
      ],
      "metadata": {
        "colab": {
          "base_uri": "https://localhost:8080/"
        },
        "id": "6hUA8dDXZ8U7",
        "outputId": "45dfc6e7-6556-4935-8405-efe2b1b3c395"
      },
      "execution_count": 20,
      "outputs": [
        {
          "output_type": "execute_result",
          "data": {
            "text/plain": [
              "array([[-1.,  0.,  0.,  0.,  0.,  0.],\n",
              "       [ 0., -1., -1., -1.,  0.,  0.],\n",
              "       [ 1.,  1.,  0.,  0., -1., -1.],\n",
              "       [ 0.,  0.,  1.,  0.,  1.,  0.],\n",
              "       [ 0.,  0.,  0.,  1.,  0.,  1.]])"
            ]
          },
          "metadata": {},
          "execution_count": 20
        }
      ]
    }
  ]
}