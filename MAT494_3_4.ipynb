{
  "nbformat": 4,
  "nbformat_minor": 0,
  "metadata": {
    "colab": {
      "provenance": [],
      "authorship_tag": "ABX9TyOXTMcF7rvQt3YohLd4ZASW",
      "include_colab_link": true
    },
    "kernelspec": {
      "name": "python3",
      "display_name": "Python 3"
    },
    "language_info": {
      "name": "python"
    }
  },
  "cells": [
    {
      "cell_type": "markdown",
      "metadata": {
        "id": "view-in-github",
        "colab_type": "text"
      },
      "source": [
        "<a href=\"https://colab.research.google.com/github/Dean12343/MAT494/blob/main/MAT494_3_4.ipynb\" target=\"_parent\"><img src=\"https://colab.research.google.com/assets/colab-badge.svg\" alt=\"Open In Colab\"/></a>"
      ]
    },
    {
      "cell_type": "code",
      "execution_count": null,
      "metadata": {
        "id": "i_e2McCSavXs"
      },
      "outputs": [],
      "source": []
    },
    {
      "cell_type": "markdown",
      "source": [
        "Problem 1: Given $\\sigma(t)=\\frac{1}{1-e^{-t}}$ and $x^{k+1}=x^k+β(b-σ(\\alpha^Tx^k))\\alpha$ with $\\alpha$ and x being 1x1 vectors and $\\alpha$ and b being a 1x1 vector with an entry of 1, find the recursive relation for a step size of 0.1. Also, find the second step with k=1 where $x^1$ is equal to 1\n",
        "\n",
        "\n",
        "---\n",
        "\n",
        "$x^{k+1}=x^k+0.1(1-\\frac{1}{1-e^{-x^k}})$\n",
        "\n",
        "$x^2=x^1+0.1(1-\\frac{1}{1-e^{-x^1}})$\n",
        "\n",
        "$x^2=1+0.1(1-\\frac{1}{1-e^{-1}})$\n",
        "\n",
        "$x^2\\approx0.942$"
      ],
      "metadata": {
        "id": "8aixhG5XwHZx"
      }
    }
  ]
}