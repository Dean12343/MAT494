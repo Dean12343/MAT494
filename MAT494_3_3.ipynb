{
  "nbformat": 4,
  "nbformat_minor": 0,
  "metadata": {
    "colab": {
      "provenance": [],
      "authorship_tag": "ABX9TyPlaOy+eCvMH5wIwW2YB4CY",
      "include_colab_link": true
    },
    "kernelspec": {
      "name": "python3",
      "display_name": "Python 3"
    },
    "language_info": {
      "name": "python"
    }
  },
  "cells": [
    {
      "cell_type": "markdown",
      "metadata": {
        "id": "view-in-github",
        "colab_type": "text"
      },
      "source": [
        "<a href=\"https://colab.research.google.com/github/Dean12343/MAT494/blob/main/MAT494_3_3.ipynb\" target=\"_parent\"><img src=\"https://colab.research.google.com/assets/colab-badge.svg\" alt=\"Open In Colab\"/></a>"
      ]
    },
    {
      "cell_type": "markdown",
      "source": [
        "Problem 1: Show that $f(x)=x^2$ is convex \n",
        "\n",
        "\n",
        "---\n",
        "\n",
        "\n",
        "1.   $y^2≥x^2+(2x)(y-x)$\n",
        "2.   $y^2≥x^2+2xy-x^2$\n",
        "3.   $y^2-2xy+x^2≥0$\n",
        "4.   $(y-x)^2≥0$ is true for any value y-x, meaning f(x) is convex\n",
        "\n",
        "\n",
        "\n",
        "\n"
      ],
      "metadata": {
        "id": "sIwXQQYLaiWf"
      }
    },
    {
      "cell_type": "markdown",
      "source": [
        "Problem 2: Find the direction of steepest descent for the function $f(x_1,x_2)=x_1e^{-x^2}$ at the point (1,0)"
      ],
      "metadata": {
        "id": "4S-rQ1zoaqdI"
      }
    },
    {
      "cell_type": "code",
      "source": [
        "from sympy import symbols, Matrix, Function, simplify, exp, hessian, solve, init_printing\n",
        "init_printing()\n",
        "\n",
        "x1, x2 = symbols('x1 x2')\n",
        "f= symbols('f', cls=Function)\n",
        "\n",
        "X = Matrix([x1,x2])\n",
        "f = Matrix([x1*exp(-(x2**2))])\n",
        "gradf = simplify(f.jacobian(X))\n",
        "print(\"The gradient of f is:\")\n",
        "gradf"
      ],
      "metadata": {
        "id": "NpEapYH3aiDs",
        "colab": {
          "base_uri": "https://localhost:8080/",
          "height": 65
        },
        "outputId": "a3cf6471-d2b1-4ae0-cb79-8336286a078b"
      },
      "execution_count": 3,
      "outputs": [
        {
          "output_type": "stream",
          "name": "stdout",
          "text": [
            "The gradient of f is:\n"
          ]
        },
        {
          "output_type": "execute_result",
          "data": {
            "text/plain": [
              "⎡    2               2⎤\n",
              "⎢ -x₂             -x₂ ⎥\n",
              "⎣ℯ      -2⋅x₁⋅x₂⋅ℯ    ⎦"
            ],
            "text/latex": "$\\displaystyle \\left[\\begin{matrix}e^{- x_{2}^{2}} & - 2 x_{1} x_{2} e^{- x_{2}^{2}}\\end{matrix}\\right]$"
          },
          "metadata": {},
          "execution_count": 3
        }
      ]
    },
    {
      "cell_type": "markdown",
      "source": [
        "From there, $-∇f(1,0)=[-1,0]$ which is the direction of steepest descent."
      ],
      "metadata": {
        "id": "iSjo4Pp46qDx"
      }
    }
  ]
}