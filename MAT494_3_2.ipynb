{
  "nbformat": 4,
  "nbformat_minor": 0,
  "metadata": {
    "colab": {
      "provenance": [],
      "authorship_tag": "ABX9TyO+wWEsxRULiOCfl9bS3GtN",
      "include_colab_link": true
    },
    "kernelspec": {
      "name": "python3",
      "display_name": "Python 3"
    },
    "language_info": {
      "name": "python"
    }
  },
  "cells": [
    {
      "cell_type": "markdown",
      "metadata": {
        "id": "view-in-github",
        "colab_type": "text"
      },
      "source": [
        "<a href=\"https://colab.research.google.com/github/Dean12343/MAT494/blob/main/MAT494_3_2.ipynb\" target=\"_parent\"><img src=\"https://colab.research.google.com/assets/colab-badge.svg\" alt=\"Open In Colab\"/></a>"
      ]
    },
    {
      "cell_type": "markdown",
      "source": [
        "Problem 1: Given $f(x_1,x_2)=x_1*e^{-x^2}$, find the Gradient and Hessian matrix of f\n",
        "\n",
        "\n"
      ],
      "metadata": {
        "id": "thfkj9-5adXw"
      }
    },
    {
      "cell_type": "code",
      "source": [
        "from sympy import symbols, Matrix, Function, simplify, exp, hessian, solve, init_printing\n",
        "init_printing()\n",
        "\n",
        "x1, x2 = symbols('x1 x2')\n",
        "f= symbols('f', cls=Function)\n",
        "\n",
        "X = Matrix([x1,x2])\n",
        "f = Matrix([x1*exp(-(x2**2))])\n",
        "gradf = simplify(f.jacobian(X))\n",
        "\n",
        "print(\"The Gradient and Hessian Matrix are: \")\n",
        "gradf,hessian(f,X)\n",
        "\n"
      ],
      "metadata": {
        "id": "FcHBuScmadNg",
        "colab": {
          "base_uri": "https://localhost:8080/",
          "height": 85
        },
        "outputId": "e8d02b03-da1c-44cc-ec33-6d3366865aab"
      },
      "execution_count": null,
      "outputs": [
        {
          "output_type": "stream",
          "name": "stdout",
          "text": [
            "The Gradient and Hessian Matrix are: \n"
          ]
        },
        {
          "output_type": "execute_result",
          "data": {
            "text/plain": [
              "⎛                         ⎡                               2        ⎤⎞\n",
              "⎜                         ⎢                            -x₂         ⎥⎟\n",
              "⎜⎡    2               2⎤  ⎢     0               -2⋅x₂⋅ℯ            ⎥⎟\n",
              "⎜⎢ -x₂             -x₂ ⎥, ⎢                                        ⎥⎟\n",
              "⎜⎣ℯ      -2⋅x₁⋅x₂⋅ℯ    ⎦  ⎢          2               2            2⎥⎟\n",
              "⎜                         ⎢       -x₂          2  -x₂          -x₂ ⎥⎟\n",
              "⎝                         ⎣-2⋅x₂⋅ℯ      4⋅x₁⋅x₂ ⋅ℯ     - 2⋅x₁⋅ℯ    ⎦⎠"
            ],
            "text/latex": "$\\displaystyle \\left( \\left[\\begin{matrix}e^{- x_{2}^{2}} & - 2 x_{1} x_{2} e^{- x_{2}^{2}}\\end{matrix}\\right], \\  \\left[\\begin{matrix}0 & - 2 x_{2} e^{- x_{2}^{2}}\\\\- 2 x_{2} e^{- x_{2}^{2}} & 4 x_{1} x_{2}^{2} e^{- x_{2}^{2}} - 2 x_{1} e^{- x_{2}^{2}}\\end{matrix}\\right]\\right)$"
          },
          "metadata": {},
          "execution_count": 18
        }
      ]
    },
    {
      "cell_type": "markdown",
      "source": [
        "Problem 2: Use the information from problem 1 to find the second degree taylor polynomial for f at (1,0)\n",
        "\n",
        "\n",
        "---\n",
        "$∇f(1,0)=[1,0]$\n",
        "$, H=\\begin{bmatrix} 0 & 0\\\\ 0&-2 \\end{bmatrix}$\n",
        "\n",
        "\n",
        "---\n",
        "$P(x_1,x_2)=1+(x_1-1)+(\\frac{1}{2}*-2x_2^2)=x_1-x_2^2$\n",
        "\n"
      ],
      "metadata": {
        "id": "in4FxC5ladGQ"
      }
    }
  ]
}