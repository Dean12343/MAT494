{
  "nbformat": 4,
  "nbformat_minor": 0,
  "metadata": {
    "colab": {
      "provenance": [],
      "authorship_tag": "ABX9TyPy23BSDFHaT+Zdb5SsBNpN",
      "include_colab_link": true
    },
    "kernelspec": {
      "name": "python3",
      "display_name": "Python 3"
    },
    "language_info": {
      "name": "python"
    }
  },
  "cells": [
    {
      "cell_type": "markdown",
      "metadata": {
        "id": "view-in-github",
        "colab_type": "text"
      },
      "source": [
        "<a href=\"https://colab.research.google.com/github/Dean12343/MAT494/blob/main/MAT494_4_2.ipynb\" target=\"_parent\"><img src=\"https://colab.research.google.com/assets/colab-badge.svg\" alt=\"Open In Colab\"/></a>"
      ]
    },
    {
      "cell_type": "markdown",
      "source": [
        "Problem 1: Find the ratio and normalized cut of the following adjacency matrix defining an undirected graph with the cut being between nodes 1 and 5 defined as $\\pi_1$:\n",
        "\n",
        "A=$\\begin{bmatrix}0&1&1&1&1&0&0\\\\1&0&0&0&0&0&0\\\\1&0&0&0&0&0&0\\\\1&0&0&0&0&0&0\\\\1&0&0&0&0&1&1\\\\0&0&0&0&1&0&0\\\\0&0&0&0&1&0&0\\end{bmatrix}$\n",
        "\n",
        "\n",
        "\n",
        "---\n",
        "\n",
        "Ratio Cut($\\pi_1$)=$\\frac{1}{4}+\\frac{1}{3}=\\frac{7}{12}$\n",
        "\n",
        "Normalized Cut($\\pi_1$)=$\\frac{1}{7}+\\frac{1}{5}=\\frac{12}{35}$"
      ],
      "metadata": {
        "id": "NYnK6th-lhaS"
      }
    },
    {
      "cell_type": "markdown",
      "source": [
        "Problem 2: Find the ratio and normalized cut of the same undirected graph as problem 1 except the cut is between nodes 1 and 4 defined as $\\pi_2$ and compare it to the values of problem 1.\n",
        "\n",
        "\n",
        "---\n",
        "Ratio Cut($\\pi_2$)=$\\frac{1}{6}+\\frac{1}{1}=\\frac{7}{6}$>Ratio Cut($\\pi_1$)\n",
        "\n",
        "Normalized Cut($\\pi_2$)=$\\frac{1}{1}+\\frac{1}{11}=\\frac{12}{11}$>Normalized Cut($\\pi_1$)\n"
      ],
      "metadata": {
        "id": "FoHofQA3bTTY"
      }
    }
  ]
}